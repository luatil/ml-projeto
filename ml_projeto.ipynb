{
 "cells": [
  {
   "cell_type": "code",
   "execution_count": 33,
   "id": "e5cf6b2f",
   "metadata": {},
   "outputs": [],
   "source": [
    "import os\n",
    "import pickle # for loading the data\n",
    "import matplotlib.pyplot as plt\n",
    "import matplotlib.image as mpimg\n",
    "import numpy as np\n",
    "%matplotlib inline"
   ]
  },
  {
   "cell_type": "markdown",
   "id": "ff78b996",
   "metadata": {},
   "source": [
    "### Getting the data\n",
    "\n",
    "1. Download dataset from http://www.cs.toronto.edu/~kriz/cifar-100-python.tar.gz\n",
    "\n",
    "2. Extract it to the same directory as the present file"
   ]
  },
  {
   "cell_type": "code",
   "execution_count": 22,
   "id": "d12ca3c6",
   "metadata": {},
   "outputs": [],
   "source": [
    "# Must contain cifar-10-batches-py\n",
    "working_dir = os.getcwd()\n",
    "files_list = os.listdir()\n",
    "assert \"cifar-10-batches-py\" in files_list, f\"CIFAR-10 data not in {working_dir} list of files: {files_list}\""
   ]
  },
  {
   "cell_type": "markdown",
   "id": "10ba63d4",
   "metadata": {
    "jp-MarkdownHeadingCollapsed": true,
    "tags": []
   },
   "source": [
    "### Data Format\n",
    "\n",
    "Each of the batch files contains the following elements:\n",
    "\n",
    "- data -- a 10000x3072 numpy array of uint8s. Each row of the array stores a 32x32 colour image. The first 1024 entries contain the red channel values, the next 1024 the green, and the final the blue. The image is stored in row-major order, so that the first 32 entries of the array are the red channel values of the first row of the image.\n",
    "- labels -- a list of 10000 numbers in the range 0-9. The number at index i indicated hte label of the ith image in the array data\n",
    "\n",
    "Tha dataset contains another file, called batches.meta. It too contains a Python dictionary object. It has the following entries.\n",
    "\n",
    "- label_names -- a 10-element list which gives meaningful names to the numeric labels in the labels array described above. For example, label_names[0] == \"airplane\", label_names[1] == \"automobile\", etc"
   ]
  },
  {
   "cell_type": "markdown",
   "id": "1a43e638",
   "metadata": {},
   "source": [
    "### Loading the data"
   ]
  },
  {
   "cell_type": "code",
   "execution_count": 23,
   "id": "301175e4",
   "metadata": {},
   "outputs": [],
   "source": [
    "# from http://www.cs.toronto.edu/~kriz/cifar.html\n",
    "def unpickle(file):\n",
    "    with open(file, 'rb') as f:\n",
    "        file_dict = pickle.load(f, encoding='bytes')\n",
    "    return file_dict"
   ]
  },
  {
   "cell_type": "code",
   "execution_count": 24,
   "id": "f3f20a17",
   "metadata": {},
   "outputs": [
    {
     "data": {
      "text/plain": [
       "dict_keys([b'batch_label', b'labels', b'data', b'filenames'])"
      ]
     },
     "execution_count": 24,
     "metadata": {},
     "output_type": "execute_result"
    }
   ],
   "source": [
    "batch1 = unpickle('cifar-10-batches-py/data_batch_1')\n",
    "batch1.keys()"
   ]
  },
  {
   "cell_type": "markdown",
   "id": "719a58cb",
   "metadata": {},
   "source": [
    "### Formatting the data\n",
    "\n",
    "- [?] - Should I format it like 10000, 3, 32, 32 or like 10000, 32, 32, 3\n",
    "\n",
    "```\n",
    "arr = ['red', 'red', 'red', 'red', 'green', 'green', 'green', 'green', 'blue', 'blue', 'blue', 'blue' ]\n",
    "arr = np.r_[arr, arr] \n",
    "arr.reshape(2, 3, 2, 2)[0][0]\n",
    "```"
   ]
  },
  {
   "cell_type": "code",
   "execution_count": 69,
   "id": "f1392968",
   "metadata": {},
   "outputs": [],
   "source": [
    "# Index 0: Image Index\n",
    "# Index 1: Image Layer - RGB\n",
    "# Index 2: Image X Axis?\n",
    "# Index 3: Image Y Axis?\n",
    "batch1_fmt = batch1[b'data'].reshape(10000, 3, 32, 32)"
   ]
  },
  {
   "cell_type": "code",
   "execution_count": 108,
   "id": "4066bdc9",
   "metadata": {},
   "outputs": [
    {
     "data": {
      "image/png": "[encoded data removed]",
      "text/plain": [
       "<Figure size 432x288 with 1 Axes>"
      ]
     },
     "metadata": {
      "needs_background": "light"
     },
     "output_type": "display_data"
    }
   ],
   "source": [
    "image_index = 2349909\n",
    "image = batch1_fmt[image_index]\n",
    "new_image = np.zeros(32*32*3).reshape(32, 32, 3)\n",
    "for i in range(3):\n",
    "    for j in range(32):\n",
    "        for k in range(32):\n",
    "            new_image[j, k, i] = image[i, j, k]\n",
    "classes = ['plane', 'car', 'bird', 'cat', 'deer', 'dog', 'frog', 'horse', 'ship', 'truck']\n",
    "plt.title(classes[int(batch1[b'labels'][image_index])])\n",
    "plt.imshow(new_image.astype('uint8'))\n",
    "plt.show()"
   ]
  }
 ],
 "metadata": {
  "kernelspec": {
   "display_name": "Python 3 (ipykernel)",
   "language": "python",
   "name": "python3"
  },
  "language_info": {
   "codemirror_mode": {
    "name": "ipython",
    "version": 3
   },
   "file_extension": ".py",
   "mimetype": "text/x-python",
   "name": "python",
   "nbconvert_exporter": "python",
   "pygments_lexer": "ipython3",
   "version": "3.9.12"
  }
 },
 "nbformat": 4,
 "nbformat_minor": 5
}
